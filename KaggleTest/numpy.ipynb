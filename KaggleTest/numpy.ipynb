{
 "cells": [
  {
   "cell_type": "code",
   "execution_count": 30,
   "metadata": {
    "collapsed": false,
    "scrolled": true
   },
   "outputs": [
    {
     "name": "stdout",
     "output_type": "stream",
     "text": [
      "a= [[0 1 2 3 4]\n",
      " [5 6 7 8 9]]\n",
      "b= [[ 0.  0.  0.  0.]\n",
      " [ 0.  0.  0.  0.]\n",
      " [ 0.  0.  0.  0.]]\n",
      "c= [0 1 2 3 4]\n",
      "d= [  0.    2.5   5.    7.5  10. ]\n",
      "e= [ 0.20570901  0.77344272  0.16589909  0.58006096]\n"
     ]
    }
   ],
   "source": [
    "import numpy as np\n",
    "a = np.array([[0,1,2,3,4],[5,6,7,8,9]])\n",
    "b = np.zeros((3,4))\n",
    "c = np.arange(5)\n",
    "d = np.linspace(0,10,5) #0~10 分五等份\n",
    "e = np.random.random(4) #4個0~1之間的數(不包含1)\n",
    "print(\"a=\",a)\n",
    "print(\"b=\",b)\n",
    "print(\"c=\",c)\n",
    "print(\"d=\",d)\n",
    "print(\"e=\",e)"
   ]
  },
  {
   "cell_type": "code",
   "execution_count": 29,
   "metadata": {
    "collapsed": true
   },
   "outputs": [],
   "source": [
    "np.random.random?"
   ]
  },
  {
   "cell_type": "code",
   "execution_count": 8,
   "metadata": {
    "collapsed": false
   },
   "outputs": [
    {
     "name": "stdout",
     "output_type": "stream",
     "text": [
      "[[1 2 3]\n",
      " [4 5 6]]\n"
     ]
    }
   ],
   "source": [
    "# 建立一個 np array\n",
    "arr = np.array([[1,2,3],[4,5,6]])    #放入list就會轉換喔!\n",
    "print(arr)\n",
    "#印出 [[1,2,3],[4,5,6]]的 2*3 矩陣"
   ]
  },
  {
   "cell_type": "code",
   "execution_count": 10,
   "metadata": {
    "collapsed": false
   },
   "outputs": [
    {
     "name": "stdout",
     "output_type": "stream",
     "text": [
      "[[0 0 0]\n",
      " [0 0 0]]\n"
     ]
    }
   ],
   "source": [
    "# 建立一個 全為 0 的 2*3 矩陣，並指定為 int格式\n",
    "zero_arr = np.zeros((2,3), dtype=np.int)\n",
    "print(zero_arr)\n",
    "#印出 [[0,0,0],[0,0,0]] 的 2*3 矩陣"
   ]
  },
  {
   "cell_type": "code",
   "execution_count": 12,
   "metadata": {
    "collapsed": false
   },
   "outputs": [
    {
     "name": "stdout",
     "output_type": "stream",
     "text": [
      "[ 0  1  2  3  4  5  6  7  8  9 10 11]\n"
     ]
    }
   ],
   "source": [
    "# 建立一個長度為12、數值從0~11、格式為 int 的一維陣列\n",
    "onedim_arr = np.arange(12, dtype=np.int)\n",
    "print(onedim_arr)\n",
    "#印出 [0,1,2,3,4,5,6,7,8,9,10,11]"
   ]
  },
  {
   "cell_type": "code",
   "execution_count": 16,
   "metadata": {
    "collapsed": false
   },
   "outputs": [
    {
     "name": "stdout",
     "output_type": "stream",
     "text": [
      "[  1.    13.25  25.5   37.75  50.  ]\n"
     ]
    }
   ],
   "source": [
    "# 建立一個最小值1，最大值50，共分五塊相等間距的矩陣\n",
    "slice_arr = np.linspace(1,50,5)\n",
    "print(slice_arr)\n",
    "#印出 [  1.    13.25  25.5   37.75  50.  ] 的 1*5 矩陣\n",
    "#要轉成 5*1 的矩陣就在後面加上 .reshape((5*1)) 就可以喔！"
   ]
  },
  {
   "cell_type": "code",
   "execution_count": 20,
   "metadata": {
    "collapsed": false
   },
   "outputs": [
    {
     "name": "stdout",
     "output_type": "stream",
     "text": [
      "[[ 0.59990997  0.62318027]\n",
      " [ 0.5820409   0.65768171]\n",
      " [ 0.54027045  0.24352088]\n",
      " [ 0.31675384  0.0467357 ]]\n"
     ]
    }
   ],
   "source": [
    "# 建立一個隨機在0~1之間分布的 4*2 矩陣\n",
    "random_arr = np.random.random( (4, 2) )\n",
    "print(random_arr)\n",
    "#印出 [[ 0.92615029  0.12676952], [ 0.33146324  0.51952945],\n",
    "#[ 0.37010443  0.23092601], [ 0.11052635  0.78243148]]\n",
    "#值是隨機的，所以你印出來一定跟我不一樣喔！"
   ]
  },
  {
   "cell_type": "code",
   "execution_count": null,
   "metadata": {
    "collapsed": true
   },
   "outputs": [],
   "source": []
  }
 ],
 "metadata": {
  "anaconda-cloud": {},
  "kernelspec": {
   "display_name": "Python [default]",
   "language": "python",
   "name": "python3"
  },
  "language_info": {
   "codemirror_mode": {
    "name": "ipython",
    "version": 3
   },
   "file_extension": ".py",
   "mimetype": "text/x-python",
   "name": "python",
   "nbconvert_exporter": "python",
   "pygments_lexer": "ipython3",
   "version": "3.5.2"
  }
 },
 "nbformat": 4,
 "nbformat_minor": 1
}
