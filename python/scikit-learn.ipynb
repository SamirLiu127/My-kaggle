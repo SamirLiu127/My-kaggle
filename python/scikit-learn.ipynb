{
 "cells": [
  {
   "cell_type": "markdown",
   "metadata": {},
   "source": [
    "[scikit-learn參考連結](http://scikit-learn.org/stable/modules/classes.html#module-sklearn.datasets)<br>"
   ]
  },
  {
   "cell_type": "markdown",
   "metadata": {},
   "source": [
    "![](https://morvanzhou.github.io/static/results/sklearn/2_1_1.png)<hr>\n",
    "![](http://ofnqcf09s.bkt.clouddn.com/4.png)<hr>\n",
    "![](http://ofnqcf09s.bkt.clouddn.com/6.png)"
   ]
  },
  {
   "cell_type": "markdown",
   "metadata": {},
   "source": [
    "# 1.Basic"
   ]
  },
  {
   "cell_type": "code",
   "execution_count": 4,
   "metadata": {
    "collapsed": false
   },
   "outputs": [],
   "source": [
    "import numpy as np\n",
    "from sklearn import datasets\n",
    "from sklearn.cross_validation import train_test_split\n",
    "from sklearn.neighbors import KNeighborsClassifier"
   ]
  },
  {
   "cell_type": "code",
   "execution_count": 14,
   "metadata": {
    "collapsed": false
   },
   "outputs": [],
   "source": [
    "iris = datasets.load_iris()\n",
    "iris_X = iris.data\n",
    "iris_Y = iris.target\n",
    "\n",
    "# print(iris_X[:][:5])\n",
    "# print(iris_Y)\n",
    "\n",
    "X_train, X_test, Y_train, Y_test = train_test_split(iris_X,iris_Y,test_size=0.3)"
   ]
  },
  {
   "cell_type": "markdown",
   "metadata": {},
   "source": [
    "## KNN"
   ]
  },
  {
   "cell_type": "code",
   "execution_count": 21,
   "metadata": {
    "collapsed": false
   },
   "outputs": [
    {
     "name": "stdout",
     "output_type": "stream",
     "text": [
      "預測: [1 1 2 2 2 1 0 1 0 0 0 2 0 2 1 1 1 1 2 0 1 2 1 2 0 2 1 0 2 0 2 0 1 2 2 0 1\n",
      " 1 0 0 0 0 2 1 0]\n",
      "真值: [1 1 2 2 1 1 0 1 0 0 0 2 0 2 1 1 1 1 2 0 1 2 1 2 0 2 1 0 2 0 2 0 1 2 2 0 1\n",
      " 1 0 0 0 0 2 1 0]\n"
     ]
    }
   ],
   "source": [
    "# knn模塊建置\n",
    "knn = KNeighborsClassifier()\n",
    "\n",
    "# 餵入訓練資料\n",
    "knn.fit(X_train,Y_train)\n",
    "\n",
    "# 預測測試資料\n",
    "print('預測:',knn.predict(X_test))\n",
    "\n",
    "print('真值:',Y_test)"
   ]
  },
  {
   "cell_type": "markdown",
   "metadata": {},
   "source": [
    "## LinearRegression 線性回歸"
   ]
  },
  {
   "cell_type": "code",
   "execution_count": 30,
   "metadata": {
    "collapsed": false
   },
   "outputs": [],
   "source": [
    "import numpy as np\n",
    "from sklearn import datasets\n",
    "from sklearn.linear_model import LinearRegression"
   ]
  },
  {
   "cell_type": "code",
   "execution_count": 31,
   "metadata": {
    "collapsed": false
   },
   "outputs": [
    {
     "name": "stdout",
     "output_type": "stream",
     "text": [
      "[ 30.00821269  25.0298606   30.5702317   28.60814055  27.94288232]\n",
      "[ 24.   21.6  34.7  33.4  36.2]\n"
     ]
    }
   ],
   "source": [
    "boston = datasets.load_boston()\n",
    "boston_x = boston.data\n",
    "boston_y = boston.target\n",
    "\n",
    "model = LinearRegression()\n",
    "\n",
    "#餵入訓練資料\n",
    "model.fit(boston_x,boston_y)\n",
    "\n",
    "#預測資料\n",
    "print(model.predict(boston_x[:5,:]))\n",
    "print(boston_y[:5])"
   ]
  },
  {
   "cell_type": "code",
   "execution_count": 48,
   "metadata": {
    "collapsed": false
   },
   "outputs": [
    {
     "name": "stdout",
     "output_type": "stream",
     "text": [
      "[ -1.07170557e-01   4.63952195e-02   2.08602395e-02   2.68856140e+00\n",
      "  -1.77957587e+01   3.80475246e+00   7.51061703e-04  -1.47575880e+00\n",
      "   3.05655038e-01  -1.23293463e-02  -9.53463555e-01   9.39251272e-03\n",
      "  -5.25466633e-01]\n",
      "36.4911032804\n",
      "{'fit_intercept': True, 'normalize': False, 'copy_X': True, 'n_jobs': 1}\n",
      "0.740607742865\n"
     ]
    }
   ],
   "source": [
    "# y = ax + b\n",
    "# 每個參數的斜率 a\n",
    "print(model.coef_)\n",
    "\n",
    "# 與y軸焦點 b\n",
    "print(model.intercept_)\n",
    "\n",
    "# 查看模型參數值\n",
    "print(model.get_params())\n",
    "\n",
    "# 模型評分 R^2 coefficient of determination\n",
    "print(model.score(boston_x,boston_y))"
   ]
  },
  {
   "cell_type": "markdown",
   "metadata": {},
   "source": [
    "## 創造虛擬數據 回歸數據"
   ]
  },
  {
   "cell_type": "code",
   "execution_count": 33,
   "metadata": {
    "collapsed": true
   },
   "outputs": [],
   "source": [
    "import numpy as np\n",
    "from sklearn import datasets\n",
    "import matplotlib.pyplot as plt"
   ]
  },
  {
   "cell_type": "code",
   "execution_count": 43,
   "metadata": {
    "collapsed": false,
    "scrolled": false
   },
   "outputs": [
    {
     "data": {
      "image/png": "[encoded data removed]",
      "text/plain": [
       "<matplotlib.figure.Figure at 0x2c1335aada0>"
      ]
     },
     "metadata": {},
     "output_type": "display_data"
    }
   ],
   "source": [
    "# n_sample 樣本數量, n_features 參數數量, n_targets=目標數量, noise 樣本離散值\n",
    "X,y = datasets.make_regression(n_samples=100,n_features=1,n_targets=1,noise=1)\n",
    "plt.scatter(X,y)\n",
    "plt.show()"
   ]
  },
  {
   "cell_type": "markdown",
   "metadata": {
    "collapsed": true
   },
   "source": [
    "# 2.Advanced"
   ]
  },
  {
   "cell_type": "markdown",
   "metadata": {},
   "source": [
    "## (1)normalization(scale)正規化"
   ]
  },
  {
   "cell_type": "code",
   "execution_count": 4,
   "metadata": {
    "collapsed": false
   },
   "outputs": [],
   "source": [
    "# 正規化數據套件\n",
    "from sklearn import preprocessing\n",
    "import numpy as np\n",
    "\n",
    "# 將資料分割成 train與 test的套件\n",
    "from sklearn.model_selection import train_test_split\n",
    "\n",
    "# 產生適合做 classification(分類)資料的套件\n",
    "from sklearn.datasets.samples_generator import make_classification \n",
    "\n",
    "# Support Vector Machine中的Support Vector Classifier(支援向量機)\n",
    "from sklearn.svm import SVC \n",
    "\n",
    "# 視覺化套件\n",
    "import matplotlib.pyplot as plt "
   ]
  },
  {
   "cell_type": "code",
   "execution_count": 2,
   "metadata": {
    "collapsed": false,
    "scrolled": false
   },
   "outputs": [
    {
     "name": "stdout",
     "output_type": "stream",
     "text": [
      "[[  10.     2.7    3.6]\n",
      " [-100.     5.    -2. ]\n",
      " [ 120.    20.    40. ]]\n",
      "[[ 0.         -0.85170713 -0.55138018]\n",
      " [-1.22474487 -0.55187146 -0.852133  ]\n",
      " [ 1.22474487  1.40357859  1.40351318]]\n"
     ]
    }
   ],
   "source": [
    "# 建立Array\n",
    "a = np.array([[10, 2.7, 3.6],\n",
    "             [-100, 5, -2],\n",
    "             [120, 20, 40]],dtype=np.float64)\n",
    "\n",
    "print(a)\n",
    "# 正規化\n",
    "print(preprocessing.scale(a))"
   ]
  },
  {
   "cell_type": "code",
   "execution_count": 23,
   "metadata": {
    "collapsed": false,
    "scrolled": true
   },
   "outputs": [
    {
     "data": {
      "image/png": "[encoded data removed]",
      "text/plain": [
       "<matplotlib.figure.Figure at 0x21bc0c7f8d0>"
      ]
     },
     "metadata": {},
     "output_type": "display_data"
    }
   ],
   "source": [
    "# 產生300筆資料, 2個屬性, 0個非相關屬性, 2個相關屬性, 隨機種子22, 叢集數1, \n",
    "X, y = make_classification(\n",
    "    n_samples=300, n_features=2,\n",
    "    n_redundant=0, n_informative=2, \n",
    "    random_state=22, n_clusters_per_class=1, \n",
    "    scale=100)\n",
    "\n",
    "plt.scatter(X[:, 0], X[:, 1], c=y)\n",
    "plt.show()"
   ]
  },
  {
   "cell_type": "markdown",
   "metadata": {},
   "source": [
    "## 無正規化"
   ]
  },
  {
   "cell_type": "code",
   "execution_count": 30,
   "metadata": {
    "collapsed": false
   },
   "outputs": [
    {
     "name": "stdout",
     "output_type": "stream",
     "text": [
      "0.511111111111\n"
     ]
    }
   ],
   "source": [
    "# 分訓練(train)與測試(test)資料\n",
    "X_train, X_test, Y_train, Y_test = train_test_split(X, y,test_size=.3)\n",
    "\n",
    "# 建立支援向量機\n",
    "clf = SVC()\n",
    "\n",
    "# 訓練模型\n",
    "clf.fit(X_train,Y_train)\n",
    "\n",
    "# 測試分數\n",
    "print(clf.score(X_test, Y_test))"
   ]
  },
  {
   "cell_type": "markdown",
   "metadata": {},
   "source": [
    "## 正規化"
   ]
  },
  {
   "cell_type": "code",
   "execution_count": 31,
   "metadata": {
    "collapsed": false
   },
   "outputs": [
    {
     "name": "stdout",
     "output_type": "stream",
     "text": [
      "0.988888888889\n"
     ]
    }
   ],
   "source": [
    "# 自訂正規化範圍\n",
    "# X = preprocessing.minmax_scale(X, feature_range=(-1,1))\n",
    "\n",
    "# 正規化\n",
    "X = preprocessing.scale(X)\n",
    "\n",
    "# 分訓練(train)與測試(test)資料\n",
    "X_train, X_test, Y_train, Y_test = train_test_split(X, y,test_size=.3)\n",
    "\n",
    "# 建立支援向量機\n",
    "clf = SVC()\n",
    "\n",
    "# 訓練模型\n",
    "clf.fit(X_train,Y_train)\n",
    "\n",
    "# 測試分數\n",
    "print(clf.score(X_test, Y_test))"
   ]
  },
  {
   "cell_type": "markdown",
   "metadata": {},
   "source": [
    "## (2)cross-validation交叉驗證\n",
    "### 基礎驗證"
   ]
  },
  {
   "cell_type": "code",
   "execution_count": 32,
   "metadata": {
    "collapsed": false
   },
   "outputs": [
    {
     "name": "stdout",
     "output_type": "stream",
     "text": [
      "0.973684210526\n"
     ]
    }
   ],
   "source": [
    "# iris數據集\n",
    "from sklearn.datasets import load_iris\n",
    "# 分割數據套件\n",
    "from sklearn.model_selection import train_test_split\n",
    "# kNN，k-NearestNeighbor分類演算法\n",
    "from sklearn.neighbors import KNeighborsClassifier\n",
    "\n",
    "# 載入iris數據\n",
    "iris = load_iris()\n",
    "X = iris.data\n",
    "y = iris.target\n",
    "\n",
    "# 分割數據\n",
    "X_train, X_test, y_train, y_test = train_test_split(X, y, random_state=4)\n",
    "\n",
    "# 建立模型\n",
    "knn = KNeighborsClassifier(n_neighbors=5)\n",
    "\n",
    "# 訓練模型\n",
    "knn.fit(X_train, y_train)\n",
    "\n",
    "# 模型分數\n",
    "print(knn.score(X_test, y_test))"
   ]
  },
  {
   "cell_type": "markdown",
   "metadata": {},
   "source": [
    "### 交叉驗證(Model validation)"
   ]
  },
  {
   "cell_type": "code",
   "execution_count": 38,
   "metadata": {
    "collapsed": false,
    "scrolled": true
   },
   "outputs": [
    {
     "name": "stdout",
     "output_type": "stream",
     "text": [
      "[ 0.9478022   0.9558011   0.96657382  0.98039216  0.96338028]\n",
      "0.962789911497\n"
     ]
    }
   ],
   "source": [
    "# kNN交叉驗證評估分數套件\n",
    "from sklearn.model_selection import cross_val_score\n",
    "\n",
    "# 使用kNN交叉驗證套件\n",
    "scores = cross_val_score(knn, X, y, cv=5, scoring='accuracy')\n",
    "\n",
    "# 印出5次分數\n",
    "print(scores)\n",
    "\n",
    "# 5次分屬取平均\n",
    "print(scores.mean())"
   ]
  },
  {
   "cell_type": "markdown",
   "metadata": {},
   "source": [
    "### 交叉驗證2(learning_curve)"
   ]
  },
  {
   "cell_type": "code",
   "execution_count": 76,
   "metadata": {
    "collapsed": false,
    "scrolled": true
   },
   "outputs": [
    {
     "name": "stdout",
     "output_type": "stream",
     "text": [
      "[ 0.99440994  0.99776675  0.99888337  0.99917287  0.99888337]\n",
      "[ 0.83267942  0.91940142  0.96160959  0.97113971  0.97832635]\n"
     ]
    },
    {
     "data": {
      "image/png": "[encoded data removed]",
      "text/plain": [
       "<matplotlib.figure.Figure at 0x21bc10d3240>"
      ]
     },
     "metadata": {},
     "output_type": "display_data"
    }
   ],
   "source": [
    "# 學習曲線套件\n",
    "from sklearn.model_selection import learning_curve\n",
    "# digits數據庫\n",
    "from sklearn.datasets import load_digits\n",
    "#Support Vector Classifier\n",
    "from sklearn.svm import SVC\n",
    "import matplotlib.pyplot as plt\n",
    "import numpy as np\n",
    "\n",
    "digits = load_digits()\n",
    "X = digits.data\n",
    "y = digits.target\n",
    "\n",
    "# 訓練相對數量  訓練得分    測試得分\n",
    "# learning_curve(model,訓練屬性,目標屬性,cv拆組數,訓練比例)\n",
    "train_sizes, train_score, test_score = learning_curve(\n",
    "    SVC(gamma=0.001), X, y, cv=10,\n",
    "    train_sizes=[0.1, 0.25, 0.5, 0.75, 1])\n",
    "\n",
    "# 平均每一輪得分(共5輪,分別10%,25%,50%,75%,100%)\n",
    "train_score_mean = train_score.mean(axis=1) #對每一列作平均\n",
    "test_score_mean = test_score.mean(axis=1)\n",
    "\n",
    "print(train_score_mean)\n",
    "print(test_score_mean)\n",
    "\n",
    "# plot(x軸,y軸,標記,顏色)\n",
    "plt.plot(train_sizes, train_score_mean, 'o-', color=\"r\",\n",
    "         label=\"Training\")\n",
    "plt.plot(train_sizes, test_score_mean, 'o-', color=\"g\",\n",
    "        label=\"Cross-validation\")\n",
    "\n",
    "# X與Y軸標籤\n",
    "plt.xlabel(\"Training examples\")\n",
    "plt.ylabel(\"Score\")\n",
    "# 圖示\n",
    "plt.legend(loc=\"best\")\n",
    "# 呈現\n",
    "plt.show()"
   ]
  },
  {
   "cell_type": "markdown",
   "metadata": {},
   "source": [
    "### 交叉驗證3(validation_curve)\n",
    "    快速找出參數對模型的影響"
   ]
  },
  {
   "cell_type": "code",
   "execution_count": 79,
   "metadata": {
    "collapsed": false
   },
   "outputs": [
    {
     "name": "stdout",
     "output_type": "stream",
     "text": [
      "[ 0.12033875  0.91300577  0.97650449  0.99802102  1.        ]\n",
      "[ 0.12061127  0.88927074  0.95155412  0.97776513  0.92767856]\n",
      "[  1.00000000e-06   8.41395142e-06   7.07945784e-05   5.95662144e-04\n",
      "   5.01187234e-03]\n"
     ]
    },
    {
     "data": {
      "image/png": "[encoded data removed]",
      "text/plain": [
       "<matplotlib.figure.Figure at 0x21bbfb2fbe0>"
      ]
     },
     "metadata": {},
     "output_type": "display_data"
    }
   ],
   "source": [
    "# 驗證曲線套件\n",
    "from sklearn.model_selection import validation_curve\n",
    "from sklearn.datasets import load_digits \n",
    "from sklearn.svm import SVC \n",
    "import matplotlib.pyplot as plt \n",
    "import numpy as np\n",
    "\n",
    "digits = load_digits()\n",
    "X = digits.data\n",
    "y = digits.target\n",
    "\n",
    "# 建立參數範圍\n",
    "param_range = np.logspace(-6, -2.3, 5)\n",
    "\n",
    "#使用validation_curve快速找出參數對模型的影響\n",
    "#validation_curve(Model, 訓練屬性, 目標屬性, 參數名稱, 參數範圍, 組數)\n",
    "train_scores, test_scores = validation_curve(\n",
    "    SVC(), X, y, param_name='gamma',param_range=param_range,cv=10)\n",
    "\n",
    "#平均每一轮的平均方差\n",
    "train_scores_mean = train_scores.mean(axis=1)\n",
    "test_scores_mean = test_scores.mean(axis=1)\n",
    "\n",
    "print(train_scores_mean)\n",
    "print(test_scores_mean)\n",
    "print(param_range)\n",
    "\n",
    "#可视化图形\n",
    "plt.plot(param_range, train_scores_mean, 'o-', color=\"r\",\n",
    "         label=\"Training\")\n",
    "plt.plot(param_range, test_scores_mean, 'o-', color=\"g\",\n",
    "        label=\"Cross-validation\")\n",
    "\n",
    "plt.xlabel(\"gamma\")\n",
    "plt.ylabel(\"Scores\")\n",
    "plt.legend(loc=\"best\")\n",
    "plt.show()"
   ]
  },
  {
   "cell_type": "markdown",
   "metadata": {},
   "source": [
    "## (3)保存模型"
   ]
  },
  {
   "cell_type": "code",
   "execution_count": 80,
   "metadata": {
    "collapsed": false,
    "scrolled": true
   },
   "outputs": [
    {
     "data": {
      "text/plain": [
       "SVC(C=1.0, cache_size=200, class_weight=None, coef0=0.0,\n",
       "  decision_function_shape=None, degree=3, gamma='auto', kernel='rbf',\n",
       "  max_iter=-1, probability=False, random_state=None, shrinking=True,\n",
       "  tol=0.001, verbose=False)"
      ]
     },
     "execution_count": 80,
     "metadata": {},
     "output_type": "execute_result"
    }
   ],
   "source": [
    "# 建立模型\n",
    "from sklearn import svm\n",
    "from sklearn import datasets\n",
    "\n",
    "clf = svm.SVC()\n",
    "iris = datasets.load_iris()\n",
    "X, y = iris.data, iris.target\n",
    "clf.fit(X, y)"
   ]
  },
  {
   "cell_type": "markdown",
   "metadata": {},
   "source": [
    "### Method 1 : pickle"
   ]
  },
  {
   "cell_type": "code",
   "execution_count": 87,
   "metadata": {
    "collapsed": true
   },
   "outputs": [],
   "source": [
    "import pickle"
   ]
  },
  {
   "cell_type": "code",
   "execution_count": 88,
   "metadata": {
    "collapsed": false
   },
   "outputs": [],
   "source": [
    "# Save\n",
    "with open('save/clf.pickle','wb') as f:\n",
    "    pickle.dump(clf, f)"
   ]
  },
  {
   "cell_type": "code",
   "execution_count": 89,
   "metadata": {
    "collapsed": false
   },
   "outputs": [
    {
     "name": "stdout",
     "output_type": "stream",
     "text": [
      "[0 0]\n"
     ]
    }
   ],
   "source": [
    "# Restore\n",
    "with open('save/clf.pickle','rb') as f:\n",
    "    clf2 = pickle.load(f)\n",
    "    print(clf2.predict(X[:2]))"
   ]
  },
  {
   "cell_type": "markdown",
   "metadata": {},
   "source": [
    "### Method 2 : joblib (better)"
   ]
  },
  {
   "cell_type": "code",
   "execution_count": 91,
   "metadata": {
    "collapsed": true
   },
   "outputs": [],
   "source": [
    "from sklearn.externals import joblib"
   ]
  },
  {
   "cell_type": "code",
   "execution_count": 92,
   "metadata": {
    "collapsed": false
   },
   "outputs": [
    {
     "data": {
      "text/plain": [
       "['save/clf.pkl']"
      ]
     },
     "execution_count": 92,
     "metadata": {},
     "output_type": "execute_result"
    }
   ],
   "source": [
    "# Save\n",
    "joblib.dump(clf,'save/clf.pkl')"
   ]
  },
  {
   "cell_type": "code",
   "execution_count": 93,
   "metadata": {
    "collapsed": false
   },
   "outputs": [
    {
     "name": "stdout",
     "output_type": "stream",
     "text": [
      "[0 0]\n"
     ]
    }
   ],
   "source": [
    "# Restore\n",
    "clf3 = joblib.load('save/clf.pkl')\n",
    "print(clf3.predict(X[:2]))"
   ]
  }
 ],
 "metadata": {
  "anaconda-cloud": {},
  "kernelspec": {
   "display_name": "Python 3",
   "language": "python",
   "name": "python3"
  },
  "language_info": {
   "codemirror_mode": {
    "name": "ipython",
    "version": 3
   },
   "file_extension": ".py",
   "mimetype": "text/x-python",
   "name": "python",
   "nbconvert_exporter": "python",
   "pygments_lexer": "ipython3",
   "version": "3.6.0"
  }
 },
 "nbformat": 4,
 "nbformat_minor": 1
}
