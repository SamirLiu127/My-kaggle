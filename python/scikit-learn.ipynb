{
 "cells": [
  {
   "cell_type": "markdown",
   "metadata": {},
   "source": [
    "[scikit-learn參考連結](http://scikit-learn.org/stable/modules/classes.html#module-sklearn.datasets)<br>"
   ]
  },
  {
   "cell_type": "markdown",
   "metadata": {},
   "source": [
    "![](https://morvanzhou.github.io/static/results/sklearn/2_1_1.png)<hr>\n",
    "![](http://ofnqcf09s.bkt.clouddn.com/4.png)<hr>\n",
    "![](http://ofnqcf09s.bkt.clouddn.com/6.png)"
   ]
  },
  {
   "cell_type": "code",
   "execution_count": 4,
   "metadata": {
    "collapsed": false
   },
   "outputs": [],
   "source": [
    "import numpy as np\n",
    "from sklearn import datasets\n",
    "from sklearn.cross_validation import train_test_split\n",
    "from sklearn.neighbors import KNeighborsClassifier"
   ]
  },
  {
   "cell_type": "code",
   "execution_count": 14,
   "metadata": {
    "collapsed": false
   },
   "outputs": [],
   "source": [
    "iris = datasets.load_iris()\n",
    "iris_X = iris.data\n",
    "iris_Y = iris.target\n",
    "\n",
    "# print(iris_X[:][:5])\n",
    "# print(iris_Y)\n",
    "\n",
    "X_train, X_test, Y_train, Y_test = train_test_split(iris_X,iris_Y,test_size=0.3)"
   ]
  },
  {
   "cell_type": "markdown",
   "metadata": {},
   "source": [
    "## KNN"
   ]
  },
  {
   "cell_type": "code",
   "execution_count": 21,
   "metadata": {
    "collapsed": false
   },
   "outputs": [
    {
     "name": "stdout",
     "output_type": "stream",
     "text": [
      "預測: [1 1 2 2 2 1 0 1 0 0 0 2 0 2 1 1 1 1 2 0 1 2 1 2 0 2 1 0 2 0 2 0 1 2 2 0 1\n",
      " 1 0 0 0 0 2 1 0]\n",
      "真值: [1 1 2 2 1 1 0 1 0 0 0 2 0 2 1 1 1 1 2 0 1 2 1 2 0 2 1 0 2 0 2 0 1 2 2 0 1\n",
      " 1 0 0 0 0 2 1 0]\n"
     ]
    }
   ],
   "source": [
    "# knn模塊建置\n",
    "knn = KNeighborsClassifier()\n",
    "\n",
    "# 餵入訓練資料\n",
    "knn.fit(X_train,Y_train)\n",
    "\n",
    "# 預測測試資料\n",
    "print('預測:',knn.predict(X_test))\n",
    "\n",
    "print('真值:',Y_test)"
   ]
  },
  {
   "cell_type": "markdown",
   "metadata": {},
   "source": [
    "## LinearRegression 線性回歸"
   ]
  },
  {
   "cell_type": "code",
   "execution_count": 30,
   "metadata": {
    "collapsed": false
   },
   "outputs": [],
   "source": [
    "import numpy as np\n",
    "from sklearn import datasets\n",
    "from sklearn.linear_model import LinearRegression"
   ]
  },
  {
   "cell_type": "code",
   "execution_count": 31,
   "metadata": {
    "collapsed": false
   },
   "outputs": [
    {
     "name": "stdout",
     "output_type": "stream",
     "text": [
      "[ 30.00821269  25.0298606   30.5702317   28.60814055  27.94288232]\n",
      "[ 24.   21.6  34.7  33.4  36.2]\n"
     ]
    }
   ],
   "source": [
    "boston = datasets.load_boston()\n",
    "boston_x = boston.data\n",
    "boston_y = boston.target\n",
    "\n",
    "model = LinearRegression()\n",
    "\n",
    "#餵入訓練資料\n",
    "model.fit(boston_x,boston_y)\n",
    "\n",
    "#預測資料\n",
    "print(model.predict(boston_x[:5,:]))\n",
    "print(boston_y[:5])"
   ]
  },
  {
   "cell_type": "code",
   "execution_count": 48,
   "metadata": {
    "collapsed": false
   },
   "outputs": [
    {
     "name": "stdout",
     "output_type": "stream",
     "text": [
      "[ -1.07170557e-01   4.63952195e-02   2.08602395e-02   2.68856140e+00\n",
      "  -1.77957587e+01   3.80475246e+00   7.51061703e-04  -1.47575880e+00\n",
      "   3.05655038e-01  -1.23293463e-02  -9.53463555e-01   9.39251272e-03\n",
      "  -5.25466633e-01]\n",
      "36.4911032804\n",
      "{'fit_intercept': True, 'normalize': False, 'copy_X': True, 'n_jobs': 1}\n",
      "0.740607742865\n"
     ]
    }
   ],
   "source": [
    "# y = ax + b\n",
    "# 每個參數的斜率 a\n",
    "print(model.coef_)\n",
    "\n",
    "# 與y軸焦點 b\n",
    "print(model.intercept_)\n",
    "\n",
    "# 查看模型參數值\n",
    "print(model.get_params())\n",
    "\n",
    "# 模型評分 R^2 coefficient of determination\n",
    "print(model.score(boston_x,boston_y))"
   ]
  },
  {
   "cell_type": "markdown",
   "metadata": {},
   "source": [
    "## 創造虛擬數據 回歸數據"
   ]
  },
  {
   "cell_type": "code",
   "execution_count": 33,
   "metadata": {
    "collapsed": true
   },
   "outputs": [],
   "source": [
    "import numpy as np\n",
    "from sklearn import datasets\n",
    "import matplotlib.pyplot as plt"
   ]
  },
  {
   "cell_type": "code",
   "execution_count": 43,
   "metadata": {
    "collapsed": false,
    "scrolled": false
   },
   "outputs": [
    {
     "data": {
      "image/png": "[encoded data removed]",
      "text/plain": [
       "<matplotlib.figure.Figure at 0x2c1335aada0>"
      ]
     },
     "metadata": {},
     "output_type": "display_data"
    }
   ],
   "source": [
    "# n_sample 樣本數量, n_features 參數數量, n_targets=目標數量, noise 樣本離散值\n",
    "X,y = datasets.make_regression(n_samples=100,n_features=1,n_targets=1,noise=1)\n",
    "plt.scatter(X,y)\n",
    "plt.show()"
   ]
  },
  {
   "cell_type": "code",
   "execution_count": null,
   "metadata": {
    "collapsed": true
   },
   "outputs": [],
   "source": []
  },
  {
   "cell_type": "code",
   "execution_count": null,
   "metadata": {
    "collapsed": true
   },
   "outputs": [],
   "source": []
  }
 ],
 "metadata": {
  "anaconda-cloud": {},
  "kernelspec": {
   "display_name": "Python [default]",
   "language": "python",
   "name": "python3"
  },
  "language_info": {
   "codemirror_mode": {
    "name": "ipython",
    "version": 3
   },
   "file_extension": ".py",
   "mimetype": "text/x-python",
   "name": "python",
   "nbconvert_exporter": "python",
   "pygments_lexer": "ipython3",
   "version": "3.5.2"
  }
 },
 "nbformat": 4,
 "nbformat_minor": 1
}
